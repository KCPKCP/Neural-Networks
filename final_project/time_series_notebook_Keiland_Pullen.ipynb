{
  "nbformat": 4,
  "nbformat_minor": 0,
  "metadata": {
    "colab": {
      "name": "time-series-notebook-Keiland-Pullen.ipynb",
      "provenance": [],
      "collapsed_sections": []
    },
    "kernelspec": {
      "name": "python3",
      "display_name": "Python 3"
    },
    "language_info": {
      "name": "python"
    },
    "accelerator": "GPU"
  },
  "cells": [
    {
      "cell_type": "markdown",
      "source": [
        "#CSC 578 - Class Project, Time Series Kaggle"
      ],
      "metadata": {
        "id": "5kk8gfCG-Nkn"
      }
    },
    {
      "cell_type": "markdown",
      "source": [
        "## Keiland Pullen \n",
        "Spring 2022"
      ],
      "metadata": {
        "id": "fup1Dw3BCCfp"
      }
    },
    {
      "cell_type": "markdown",
      "source": [
        "##GPU Check<br>\n",
        "Since we are using Google Colab, this will check if GPUs on Google Collab are being used and how many GPUs are being used. If I were using Anaconda, then it would also enable memory growth."
      ],
      "metadata": {
        "id": "uE_GELucipzp"
      }
    },
    {
      "cell_type": "code",
      "source": [
        "import tensorflow as tf\n",
        "print(\"Num GPUs Available: \", len(tf.config.list_physical_devices('GPU')))\n",
        "\n",
        "# tf.config.experimental.set_memory_growth(physical_devices[0], True)"
      ],
      "metadata": {
        "colab": {
          "base_uri": "https://localhost:8080/"
        },
        "id": "Knm7biIXinn6",
        "outputId": "f9abd17b-61ab-483b-cedc-65c6ee26a944"
      },
      "execution_count": null,
      "outputs": [
        {
          "output_type": "stream",
          "name": "stdout",
          "text": [
            "Num GPUs Available:  1\n"
          ]
        }
      ]
    },
    {
      "cell_type": "markdown",
      "source": [
        "## Import Libraries"
      ],
      "metadata": {
        "id": "JluDmsyobQFj"
      }
    },
    {
      "cell_type": "code",
      "execution_count": null,
      "metadata": {
        "id": "lQkEarGWbKUw"
      },
      "outputs": [],
      "source": [
        "import os\n",
        "import datetime\n",
        "\n",
        "import IPython\n",
        "import IPython.display\n",
        "import matplotlib as mpl\n",
        "import matplotlib.pyplot as plt\n",
        "import numpy as np\n",
        "import pandas as pd\n",
        "import seaborn as sns\n",
        "import tensorflow as tf\n"
      ]
    },
    {
      "cell_type": "markdown",
      "source": [
        "## Data Set Import"
      ],
      "metadata": {
        "id": "z6EiU1aBbbsJ"
      }
    },
    {
      "cell_type": "markdown",
      "source": [
        "Read file into Collab and retrieve its location via file path."
      ],
      "metadata": {
        "id": "kFwbUj4e-tan"
      }
    },
    {
      "cell_type": "code",
      "source": [
        "csv_path = tf.keras.utils.get_file(\n",
        " origin='https://reed.cs.depaul.edu/peterh/Essays/Metro_Interstate_reduced.csv',\n",
        " fname='Metro_Interstate_reduced.csv',\n",
        " cache_dir='/content', cache_subdir='sample_data')\n",
        "\n",
        "csv_path"
      ],
      "metadata": {
        "colab": {
          "base_uri": "https://localhost:8080/",
          "height": 87
        },
        "id": "zX6A9NoabXdD",
        "outputId": "e9257a44-a6d4-40b3-a54b-03128bf91f0d"
      },
      "execution_count": null,
      "outputs": [
        {
          "output_type": "stream",
          "name": "stdout",
          "text": [
            "Downloading data from https://reed.cs.depaul.edu/peterh/Essays/Metro_Interstate_reduced.csv\n",
            "2711552/2703553 [==============================] - 0s 0us/step\n",
            "2719744/2703553 [==============================] - 0s 0us/step\n"
          ]
        },
        {
          "output_type": "execute_result",
          "data": {
            "text/plain": [
              "'/content/sample_data/Metro_Interstate_reduced.csv'"
            ],
            "application/vnd.google.colaboratory.intrinsic+json": {
              "type": "string"
            }
          },
          "metadata": {},
          "execution_count": 3
        }
      ]
    },
    {
      "cell_type": "markdown",
      "source": [
        "## Exploratory Data Analysis"
      ],
      "metadata": {
        "id": "KlEJ406QbyYS"
      }
    },
    {
      "cell_type": "code",
      "source": [
        "df = pd.read_csv(csv_path, header=0)  #, index_col=0"
      ],
      "metadata": {
        "id": "iU445D_ebXQ9"
      },
      "execution_count": null,
      "outputs": []
    },
    {
      "cell_type": "markdown",
      "source": [
        "**View data:** <br>\n",
        "Check that the data has loaded correctly, view data values and data index."
      ],
      "metadata": {
        "id": "J2H6WEw-CYZA"
      }
    },
    {
      "cell_type": "code",
      "source": [
        "datavalues = df.values\n",
        "dataindex = df.index"
      ],
      "metadata": {
        "id": "m7AH080UhxwY"
      },
      "execution_count": null,
      "outputs": []
    },
    {
      "cell_type": "markdown",
      "source": [
        "**View data frame head and data frame tail:** <br>\n",
        "Inspecting and reviewing the data."
      ],
      "metadata": {
        "id": "FxlXJ07nBvqh"
      }
    },
    {
      "cell_type": "code",
      "source": [
        "df.head()"
      ],
      "metadata": {
        "colab": {
          "base_uri": "https://localhost:8080/",
          "height": 206
        },
        "id": "sNRR2ypYb6cX",
        "outputId": "725fb2e2-f246-474e-e18e-3d21ef0f54a2"
      },
      "execution_count": null,
      "outputs": [
        {
          "output_type": "execute_result",
          "data": {
            "text/plain": [
              "  holiday    temp  rain_1h  snow_1h  clouds_all weather_main  \\\n",
              "0    None  288.28      0.0      0.0          40       Clouds   \n",
              "1    None  289.36      0.0      0.0          75       Clouds   \n",
              "2    None  289.58      0.0      0.0          90       Clouds   \n",
              "3    None  290.13      0.0      0.0          90       Clouds   \n",
              "4    None  291.14      0.0      0.0          75       Clouds   \n",
              "\n",
              "  weather_description            date_time  traffic_volume  \n",
              "0    scattered clouds  2012-10-02 09:00:00            5545  \n",
              "1       broken clouds  2012-10-02 10:00:00            4516  \n",
              "2     overcast clouds  2012-10-02 11:00:00            4767  \n",
              "3     overcast clouds  2012-10-02 12:00:00            5026  \n",
              "4       broken clouds  2012-10-02 13:00:00            4918  "
            ],
            "text/html": [
              "\n",
              "  <div id=\"df-632c10db-021f-4029-98cf-82b4dfabd28b\">\n",
              "    <div class=\"colab-df-container\">\n",
              "      <div>\n",
              "<style scoped>\n",
              "    .dataframe tbody tr th:only-of-type {\n",
              "        vertical-align: middle;\n",
              "    }\n",
              "\n",
              "    .dataframe tbody tr th {\n",
              "        vertical-align: top;\n",
              "    }\n",
              "\n",
              "    .dataframe thead th {\n",
              "        text-align: right;\n",
              "    }\n",
              "</style>\n",
              "<table border=\"1\" class=\"dataframe\">\n",
              "  <thead>\n",
              "    <tr style=\"text-align: right;\">\n",
              "      <th></th>\n",
              "      <th>holiday</th>\n",
              "      <th>temp</th>\n",
              "      <th>rain_1h</th>\n",
              "      <th>snow_1h</th>\n",
              "      <th>clouds_all</th>\n",
              "      <th>weather_main</th>\n",
              "      <th>weather_description</th>\n",
              "      <th>date_time</th>\n",
              "      <th>traffic_volume</th>\n",
              "    </tr>\n",
              "  </thead>\n",
              "  <tbody>\n",
              "    <tr>\n",
              "      <th>0</th>\n",
              "      <td>None</td>\n",
              "      <td>288.28</td>\n",
              "      <td>0.0</td>\n",
              "      <td>0.0</td>\n",
              "      <td>40</td>\n",
              "      <td>Clouds</td>\n",
              "      <td>scattered clouds</td>\n",
              "      <td>2012-10-02 09:00:00</td>\n",
              "      <td>5545</td>\n",
              "    </tr>\n",
              "    <tr>\n",
              "      <th>1</th>\n",
              "      <td>None</td>\n",
              "      <td>289.36</td>\n",
              "      <td>0.0</td>\n",
              "      <td>0.0</td>\n",
              "      <td>75</td>\n",
              "      <td>Clouds</td>\n",
              "      <td>broken clouds</td>\n",
              "      <td>2012-10-02 10:00:00</td>\n",
              "      <td>4516</td>\n",
              "    </tr>\n",
              "    <tr>\n",
              "      <th>2</th>\n",
              "      <td>None</td>\n",
              "      <td>289.58</td>\n",
              "      <td>0.0</td>\n",
              "      <td>0.0</td>\n",
              "      <td>90</td>\n",
              "      <td>Clouds</td>\n",
              "      <td>overcast clouds</td>\n",
              "      <td>2012-10-02 11:00:00</td>\n",
              "      <td>4767</td>\n",
              "    </tr>\n",
              "    <tr>\n",
              "      <th>3</th>\n",
              "      <td>None</td>\n",
              "      <td>290.13</td>\n",
              "      <td>0.0</td>\n",
              "      <td>0.0</td>\n",
              "      <td>90</td>\n",
              "      <td>Clouds</td>\n",
              "      <td>overcast clouds</td>\n",
              "      <td>2012-10-02 12:00:00</td>\n",
              "      <td>5026</td>\n",
              "    </tr>\n",
              "    <tr>\n",
              "      <th>4</th>\n",
              "      <td>None</td>\n",
              "      <td>291.14</td>\n",
              "      <td>0.0</td>\n",
              "      <td>0.0</td>\n",
              "      <td>75</td>\n",
              "      <td>Clouds</td>\n",
              "      <td>broken clouds</td>\n",
              "      <td>2012-10-02 13:00:00</td>\n",
              "      <td>4918</td>\n",
              "    </tr>\n",
              "  </tbody>\n",
              "</table>\n",
              "</div>\n",
              "      <button class=\"colab-df-convert\" onclick=\"convertToInteractive('df-632c10db-021f-4029-98cf-82b4dfabd28b')\"\n",
              "              title=\"Convert this dataframe to an interactive table.\"\n",
              "              style=\"display:none;\">\n",
              "        \n",
              "  <svg xmlns=\"http://www.w3.org/2000/svg\" height=\"24px\"viewBox=\"0 0 24 24\"\n",
              "       width=\"24px\">\n",
              "    <path d=\"M0 0h24v24H0V0z\" fill=\"none\"/>\n",
              "    <path d=\"M18.56 5.44l.94 2.06.94-2.06 2.06-.94-2.06-.94-.94-2.06-.94 2.06-2.06.94zm-11 1L8.5 8.5l.94-2.06 2.06-.94-2.06-.94L8.5 2.5l-.94 2.06-2.06.94zm10 10l.94 2.06.94-2.06 2.06-.94-2.06-.94-.94-2.06-.94 2.06-2.06.94z\"/><path d=\"M17.41 7.96l-1.37-1.37c-.4-.4-.92-.59-1.43-.59-.52 0-1.04.2-1.43.59L10.3 9.45l-7.72 7.72c-.78.78-.78 2.05 0 2.83L4 21.41c.39.39.9.59 1.41.59.51 0 1.02-.2 1.41-.59l7.78-7.78 2.81-2.81c.8-.78.8-2.07 0-2.86zM5.41 20L4 18.59l7.72-7.72 1.47 1.35L5.41 20z\"/>\n",
              "  </svg>\n",
              "      </button>\n",
              "      \n",
              "  <style>\n",
              "    .colab-df-container {\n",
              "      display:flex;\n",
              "      flex-wrap:wrap;\n",
              "      gap: 12px;\n",
              "    }\n",
              "\n",
              "    .colab-df-convert {\n",
              "      background-color: #E8F0FE;\n",
              "      border: none;\n",
              "      border-radius: 50%;\n",
              "      cursor: pointer;\n",
              "      display: none;\n",
              "      fill: #1967D2;\n",
              "      height: 32px;\n",
              "      padding: 0 0 0 0;\n",
              "      width: 32px;\n",
              "    }\n",
              "\n",
              "    .colab-df-convert:hover {\n",
              "      background-color: #E2EBFA;\n",
              "      box-shadow: 0px 1px 2px rgba(60, 64, 67, 0.3), 0px 1px 3px 1px rgba(60, 64, 67, 0.15);\n",
              "      fill: #174EA6;\n",
              "    }\n",
              "\n",
              "    [theme=dark] .colab-df-convert {\n",
              "      background-color: #3B4455;\n",
              "      fill: #D2E3FC;\n",
              "    }\n",
              "\n",
              "    [theme=dark] .colab-df-convert:hover {\n",
              "      background-color: #434B5C;\n",
              "      box-shadow: 0px 1px 3px 1px rgba(0, 0, 0, 0.15);\n",
              "      filter: drop-shadow(0px 1px 2px rgba(0, 0, 0, 0.3));\n",
              "      fill: #FFFFFF;\n",
              "    }\n",
              "  </style>\n",
              "\n",
              "      <script>\n",
              "        const buttonEl =\n",
              "          document.querySelector('#df-632c10db-021f-4029-98cf-82b4dfabd28b button.colab-df-convert');\n",
              "        buttonEl.style.display =\n",
              "          google.colab.kernel.accessAllowed ? 'block' : 'none';\n",
              "\n",
              "        async function convertToInteractive(key) {\n",
              "          const element = document.querySelector('#df-632c10db-021f-4029-98cf-82b4dfabd28b');\n",
              "          const dataTable =\n",
              "            await google.colab.kernel.invokeFunction('convertToInteractive',\n",
              "                                                     [key], {});\n",
              "          if (!dataTable) return;\n",
              "\n",
              "          const docLinkHtml = 'Like what you see? Visit the ' +\n",
              "            '<a target=\"_blank\" href=https://colab.research.google.com/notebooks/data_table.ipynb>data table notebook</a>'\n",
              "            + ' to learn more about interactive tables.';\n",
              "          element.innerHTML = '';\n",
              "          dataTable['output_type'] = 'display_data';\n",
              "          await google.colab.output.renderOutput(dataTable, element);\n",
              "          const docLink = document.createElement('div');\n",
              "          docLink.innerHTML = docLinkHtml;\n",
              "          element.appendChild(docLink);\n",
              "        }\n",
              "      </script>\n",
              "    </div>\n",
              "  </div>\n",
              "  "
            ]
          },
          "metadata": {},
          "execution_count": 6
        }
      ]
    },
    {
      "cell_type": "code",
      "source": [
        "df.tail()"
      ],
      "metadata": {
        "colab": {
          "base_uri": "https://localhost:8080/",
          "height": 206
        },
        "id": "SwJgO41wb-Ey",
        "outputId": "19ef7783-e9ff-402f-a67b-836ce15f8175"
      },
      "execution_count": null,
      "outputs": [
        {
          "output_type": "execute_result",
          "data": {
            "text/plain": [
              "      holiday    temp  rain_1h  snow_1h  clouds_all  weather_main  \\\n",
              "40570    None  283.45      0.0      0.0          75        Clouds   \n",
              "40571    None  282.76      0.0      0.0          90        Clouds   \n",
              "40572    None  282.73      0.0      0.0          90  Thunderstorm   \n",
              "40573    None  282.09      0.0      0.0          90        Clouds   \n",
              "40574    None  282.12      0.0      0.0          90        Clouds   \n",
              "\n",
              "          weather_description            date_time  traffic_volume  \n",
              "40570           broken clouds  2018-09-30 19:00:00            3543  \n",
              "40571         overcast clouds  2018-09-30 20:00:00            2781  \n",
              "40572  proximity thunderstorm  2018-09-30 21:00:00            2159  \n",
              "40573         overcast clouds  2018-09-30 22:00:00            1450  \n",
              "40574         overcast clouds  2018-09-30 23:00:00             954  "
            ],
            "text/html": [
              "\n",
              "  <div id=\"df-4cb88c74-0110-4f2d-9714-d91ad85f3f87\">\n",
              "    <div class=\"colab-df-container\">\n",
              "      <div>\n",
              "<style scoped>\n",
              "    .dataframe tbody tr th:only-of-type {\n",
              "        vertical-align: middle;\n",
              "    }\n",
              "\n",
              "    .dataframe tbody tr th {\n",
              "        vertical-align: top;\n",
              "    }\n",
              "\n",
              "    .dataframe thead th {\n",
              "        text-align: right;\n",
              "    }\n",
              "</style>\n",
              "<table border=\"1\" class=\"dataframe\">\n",
              "  <thead>\n",
              "    <tr style=\"text-align: right;\">\n",
              "      <th></th>\n",
              "      <th>holiday</th>\n",
              "      <th>temp</th>\n",
              "      <th>rain_1h</th>\n",
              "      <th>snow_1h</th>\n",
              "      <th>clouds_all</th>\n",
              "      <th>weather_main</th>\n",
              "      <th>weather_description</th>\n",
              "      <th>date_time</th>\n",
              "      <th>traffic_volume</th>\n",
              "    </tr>\n",
              "  </thead>\n",
              "  <tbody>\n",
              "    <tr>\n",
              "      <th>40570</th>\n",
              "      <td>None</td>\n",
              "      <td>283.45</td>\n",
              "      <td>0.0</td>\n",
              "      <td>0.0</td>\n",
              "      <td>75</td>\n",
              "      <td>Clouds</td>\n",
              "      <td>broken clouds</td>\n",
              "      <td>2018-09-30 19:00:00</td>\n",
              "      <td>3543</td>\n",
              "    </tr>\n",
              "    <tr>\n",
              "      <th>40571</th>\n",
              "      <td>None</td>\n",
              "      <td>282.76</td>\n",
              "      <td>0.0</td>\n",
              "      <td>0.0</td>\n",
              "      <td>90</td>\n",
              "      <td>Clouds</td>\n",
              "      <td>overcast clouds</td>\n",
              "      <td>2018-09-30 20:00:00</td>\n",
              "      <td>2781</td>\n",
              "    </tr>\n",
              "    <tr>\n",
              "      <th>40572</th>\n",
              "      <td>None</td>\n",
              "      <td>282.73</td>\n",
              "      <td>0.0</td>\n",
              "      <td>0.0</td>\n",
              "      <td>90</td>\n",
              "      <td>Thunderstorm</td>\n",
              "      <td>proximity thunderstorm</td>\n",
              "      <td>2018-09-30 21:00:00</td>\n",
              "      <td>2159</td>\n",
              "    </tr>\n",
              "    <tr>\n",
              "      <th>40573</th>\n",
              "      <td>None</td>\n",
              "      <td>282.09</td>\n",
              "      <td>0.0</td>\n",
              "      <td>0.0</td>\n",
              "      <td>90</td>\n",
              "      <td>Clouds</td>\n",
              "      <td>overcast clouds</td>\n",
              "      <td>2018-09-30 22:00:00</td>\n",
              "      <td>1450</td>\n",
              "    </tr>\n",
              "    <tr>\n",
              "      <th>40574</th>\n",
              "      <td>None</td>\n",
              "      <td>282.12</td>\n",
              "      <td>0.0</td>\n",
              "      <td>0.0</td>\n",
              "      <td>90</td>\n",
              "      <td>Clouds</td>\n",
              "      <td>overcast clouds</td>\n",
              "      <td>2018-09-30 23:00:00</td>\n",
              "      <td>954</td>\n",
              "    </tr>\n",
              "  </tbody>\n",
              "</table>\n",
              "</div>\n",
              "      <button class=\"colab-df-convert\" onclick=\"convertToInteractive('df-4cb88c74-0110-4f2d-9714-d91ad85f3f87')\"\n",
              "              title=\"Convert this dataframe to an interactive table.\"\n",
              "              style=\"display:none;\">\n",
              "        \n",
              "  <svg xmlns=\"http://www.w3.org/2000/svg\" height=\"24px\"viewBox=\"0 0 24 24\"\n",
              "       width=\"24px\">\n",
              "    <path d=\"M0 0h24v24H0V0z\" fill=\"none\"/>\n",
              "    <path d=\"M18.56 5.44l.94 2.06.94-2.06 2.06-.94-2.06-.94-.94-2.06-.94 2.06-2.06.94zm-11 1L8.5 8.5l.94-2.06 2.06-.94-2.06-.94L8.5 2.5l-.94 2.06-2.06.94zm10 10l.94 2.06.94-2.06 2.06-.94-2.06-.94-.94-2.06-.94 2.06-2.06.94z\"/><path d=\"M17.41 7.96l-1.37-1.37c-.4-.4-.92-.59-1.43-.59-.52 0-1.04.2-1.43.59L10.3 9.45l-7.72 7.72c-.78.78-.78 2.05 0 2.83L4 21.41c.39.39.9.59 1.41.59.51 0 1.02-.2 1.41-.59l7.78-7.78 2.81-2.81c.8-.78.8-2.07 0-2.86zM5.41 20L4 18.59l7.72-7.72 1.47 1.35L5.41 20z\"/>\n",
              "  </svg>\n",
              "      </button>\n",
              "      \n",
              "  <style>\n",
              "    .colab-df-container {\n",
              "      display:flex;\n",
              "      flex-wrap:wrap;\n",
              "      gap: 12px;\n",
              "    }\n",
              "\n",
              "    .colab-df-convert {\n",
              "      background-color: #E8F0FE;\n",
              "      border: none;\n",
              "      border-radius: 50%;\n",
              "      cursor: pointer;\n",
              "      display: none;\n",
              "      fill: #1967D2;\n",
              "      height: 32px;\n",
              "      padding: 0 0 0 0;\n",
              "      width: 32px;\n",
              "    }\n",
              "\n",
              "    .colab-df-convert:hover {\n",
              "      background-color: #E2EBFA;\n",
              "      box-shadow: 0px 1px 2px rgba(60, 64, 67, 0.3), 0px 1px 3px 1px rgba(60, 64, 67, 0.15);\n",
              "      fill: #174EA6;\n",
              "    }\n",
              "\n",
              "    [theme=dark] .colab-df-convert {\n",
              "      background-color: #3B4455;\n",
              "      fill: #D2E3FC;\n",
              "    }\n",
              "\n",
              "    [theme=dark] .colab-df-convert:hover {\n",
              "      background-color: #434B5C;\n",
              "      box-shadow: 0px 1px 3px 1px rgba(0, 0, 0, 0.15);\n",
              "      filter: drop-shadow(0px 1px 2px rgba(0, 0, 0, 0.3));\n",
              "      fill: #FFFFFF;\n",
              "    }\n",
              "  </style>\n",
              "\n",
              "      <script>\n",
              "        const buttonEl =\n",
              "          document.querySelector('#df-4cb88c74-0110-4f2d-9714-d91ad85f3f87 button.colab-df-convert');\n",
              "        buttonEl.style.display =\n",
              "          google.colab.kernel.accessAllowed ? 'block' : 'none';\n",
              "\n",
              "        async function convertToInteractive(key) {\n",
              "          const element = document.querySelector('#df-4cb88c74-0110-4f2d-9714-d91ad85f3f87');\n",
              "          const dataTable =\n",
              "            await google.colab.kernel.invokeFunction('convertToInteractive',\n",
              "                                                     [key], {});\n",
              "          if (!dataTable) return;\n",
              "\n",
              "          const docLinkHtml = 'Like what you see? Visit the ' +\n",
              "            '<a target=\"_blank\" href=https://colab.research.google.com/notebooks/data_table.ipynb>data table notebook</a>'\n",
              "            + ' to learn more about interactive tables.';\n",
              "          element.innerHTML = '';\n",
              "          dataTable['output_type'] = 'display_data';\n",
              "          await google.colab.output.renderOutput(dataTable, element);\n",
              "          const docLink = document.createElement('div');\n",
              "          docLink.innerHTML = docLinkHtml;\n",
              "          element.appendChild(docLink);\n",
              "        }\n",
              "      </script>\n",
              "    </div>\n",
              "  </div>\n",
              "  "
            ]
          },
          "metadata": {},
          "execution_count": 7
        }
      ]
    },
    {
      "cell_type": "markdown",
      "source": [
        "**Data statistics:** <br>\n",
        "Descriptive statistics for the numerical fields, view the mean, std, min, max, etc."
      ],
      "metadata": {
        "id": "HtsLXHRYC7I6"
      }
    },
    {
      "cell_type": "code",
      "source": [
        "df.describe()"
      ],
      "metadata": {
        "colab": {
          "base_uri": "https://localhost:8080/",
          "height": 300
        },
        "id": "q75jxlKob-BM",
        "outputId": "703a68c7-e7a7-487a-deca-d406dde0ea77"
      },
      "execution_count": null,
      "outputs": [
        {
          "output_type": "execute_result",
          "data": {
            "text/plain": [
              "               temp       rain_1h       snow_1h    clouds_all  traffic_volume\n",
              "count  40575.000000  40575.000000  40575.000000  40575.000000    40575.000000\n",
              "mean     281.316763      0.318632      0.000117     44.199162     3290.650474\n",
              "std       13.816618     48.812640      0.005676     38.683447     1984.772909\n",
              "min        0.000000      0.000000      0.000000      0.000000        0.000000\n",
              "25%      271.840000      0.000000      0.000000      1.000000     1248.500000\n",
              "50%      282.860000      0.000000      0.000000     40.000000     3427.000000\n",
              "75%      292.280000      0.000000      0.000000     90.000000     4952.000000\n",
              "max      310.070000   9831.300000      0.510000    100.000000     7280.000000"
            ],
            "text/html": [
              "\n",
              "  <div id=\"df-66b1e829-b203-4e24-a552-dff31b2f4333\">\n",
              "    <div class=\"colab-df-container\">\n",
              "      <div>\n",
              "<style scoped>\n",
              "    .dataframe tbody tr th:only-of-type {\n",
              "        vertical-align: middle;\n",
              "    }\n",
              "\n",
              "    .dataframe tbody tr th {\n",
              "        vertical-align: top;\n",
              "    }\n",
              "\n",
              "    .dataframe thead th {\n",
              "        text-align: right;\n",
              "    }\n",
              "</style>\n",
              "<table border=\"1\" class=\"dataframe\">\n",
              "  <thead>\n",
              "    <tr style=\"text-align: right;\">\n",
              "      <th></th>\n",
              "      <th>temp</th>\n",
              "      <th>rain_1h</th>\n",
              "      <th>snow_1h</th>\n",
              "      <th>clouds_all</th>\n",
              "      <th>traffic_volume</th>\n",
              "    </tr>\n",
              "  </thead>\n",
              "  <tbody>\n",
              "    <tr>\n",
              "      <th>count</th>\n",
              "      <td>40575.000000</td>\n",
              "      <td>40575.000000</td>\n",
              "      <td>40575.000000</td>\n",
              "      <td>40575.000000</td>\n",
              "      <td>40575.000000</td>\n",
              "    </tr>\n",
              "    <tr>\n",
              "      <th>mean</th>\n",
              "      <td>281.316763</td>\n",
              "      <td>0.318632</td>\n",
              "      <td>0.000117</td>\n",
              "      <td>44.199162</td>\n",
              "      <td>3290.650474</td>\n",
              "    </tr>\n",
              "    <tr>\n",
              "      <th>std</th>\n",
              "      <td>13.816618</td>\n",
              "      <td>48.812640</td>\n",
              "      <td>0.005676</td>\n",
              "      <td>38.683447</td>\n",
              "      <td>1984.772909</td>\n",
              "    </tr>\n",
              "    <tr>\n",
              "      <th>min</th>\n",
              "      <td>0.000000</td>\n",
              "      <td>0.000000</td>\n",
              "      <td>0.000000</td>\n",
              "      <td>0.000000</td>\n",
              "      <td>0.000000</td>\n",
              "    </tr>\n",
              "    <tr>\n",
              "      <th>25%</th>\n",
              "      <td>271.840000</td>\n",
              "      <td>0.000000</td>\n",
              "      <td>0.000000</td>\n",
              "      <td>1.000000</td>\n",
              "      <td>1248.500000</td>\n",
              "    </tr>\n",
              "    <tr>\n",
              "      <th>50%</th>\n",
              "      <td>282.860000</td>\n",
              "      <td>0.000000</td>\n",
              "      <td>0.000000</td>\n",
              "      <td>40.000000</td>\n",
              "      <td>3427.000000</td>\n",
              "    </tr>\n",
              "    <tr>\n",
              "      <th>75%</th>\n",
              "      <td>292.280000</td>\n",
              "      <td>0.000000</td>\n",
              "      <td>0.000000</td>\n",
              "      <td>90.000000</td>\n",
              "      <td>4952.000000</td>\n",
              "    </tr>\n",
              "    <tr>\n",
              "      <th>max</th>\n",
              "      <td>310.070000</td>\n",
              "      <td>9831.300000</td>\n",
              "      <td>0.510000</td>\n",
              "      <td>100.000000</td>\n",
              "      <td>7280.000000</td>\n",
              "    </tr>\n",
              "  </tbody>\n",
              "</table>\n",
              "</div>\n",
              "      <button class=\"colab-df-convert\" onclick=\"convertToInteractive('df-66b1e829-b203-4e24-a552-dff31b2f4333')\"\n",
              "              title=\"Convert this dataframe to an interactive table.\"\n",
              "              style=\"display:none;\">\n",
              "        \n",
              "  <svg xmlns=\"http://www.w3.org/2000/svg\" height=\"24px\"viewBox=\"0 0 24 24\"\n",
              "       width=\"24px\">\n",
              "    <path d=\"M0 0h24v24H0V0z\" fill=\"none\"/>\n",
              "    <path d=\"M18.56 5.44l.94 2.06.94-2.06 2.06-.94-2.06-.94-.94-2.06-.94 2.06-2.06.94zm-11 1L8.5 8.5l.94-2.06 2.06-.94-2.06-.94L8.5 2.5l-.94 2.06-2.06.94zm10 10l.94 2.06.94-2.06 2.06-.94-2.06-.94-.94-2.06-.94 2.06-2.06.94z\"/><path d=\"M17.41 7.96l-1.37-1.37c-.4-.4-.92-.59-1.43-.59-.52 0-1.04.2-1.43.59L10.3 9.45l-7.72 7.72c-.78.78-.78 2.05 0 2.83L4 21.41c.39.39.9.59 1.41.59.51 0 1.02-.2 1.41-.59l7.78-7.78 2.81-2.81c.8-.78.8-2.07 0-2.86zM5.41 20L4 18.59l7.72-7.72 1.47 1.35L5.41 20z\"/>\n",
              "  </svg>\n",
              "      </button>\n",
              "      \n",
              "  <style>\n",
              "    .colab-df-container {\n",
              "      display:flex;\n",
              "      flex-wrap:wrap;\n",
              "      gap: 12px;\n",
              "    }\n",
              "\n",
              "    .colab-df-convert {\n",
              "      background-color: #E8F0FE;\n",
              "      border: none;\n",
              "      border-radius: 50%;\n",
              "      cursor: pointer;\n",
              "      display: none;\n",
              "      fill: #1967D2;\n",
              "      height: 32px;\n",
              "      padding: 0 0 0 0;\n",
              "      width: 32px;\n",
              "    }\n",
              "\n",
              "    .colab-df-convert:hover {\n",
              "      background-color: #E2EBFA;\n",
              "      box-shadow: 0px 1px 2px rgba(60, 64, 67, 0.3), 0px 1px 3px 1px rgba(60, 64, 67, 0.15);\n",
              "      fill: #174EA6;\n",
              "    }\n",
              "\n",
              "    [theme=dark] .colab-df-convert {\n",
              "      background-color: #3B4455;\n",
              "      fill: #D2E3FC;\n",
              "    }\n",
              "\n",
              "    [theme=dark] .colab-df-convert:hover {\n",
              "      background-color: #434B5C;\n",
              "      box-shadow: 0px 1px 3px 1px rgba(0, 0, 0, 0.15);\n",
              "      filter: drop-shadow(0px 1px 2px rgba(0, 0, 0, 0.3));\n",
              "      fill: #FFFFFF;\n",
              "    }\n",
              "  </style>\n",
              "\n",
              "      <script>\n",
              "        const buttonEl =\n",
              "          document.querySelector('#df-66b1e829-b203-4e24-a552-dff31b2f4333 button.colab-df-convert');\n",
              "        buttonEl.style.display =\n",
              "          google.colab.kernel.accessAllowed ? 'block' : 'none';\n",
              "\n",
              "        async function convertToInteractive(key) {\n",
              "          const element = document.querySelector('#df-66b1e829-b203-4e24-a552-dff31b2f4333');\n",
              "          const dataTable =\n",
              "            await google.colab.kernel.invokeFunction('convertToInteractive',\n",
              "                                                     [key], {});\n",
              "          if (!dataTable) return;\n",
              "\n",
              "          const docLinkHtml = 'Like what you see? Visit the ' +\n",
              "            '<a target=\"_blank\" href=https://colab.research.google.com/notebooks/data_table.ipynb>data table notebook</a>'\n",
              "            + ' to learn more about interactive tables.';\n",
              "          element.innerHTML = '';\n",
              "          dataTable['output_type'] = 'display_data';\n",
              "          await google.colab.output.renderOutput(dataTable, element);\n",
              "          const docLink = document.createElement('div');\n",
              "          docLink.innerHTML = docLinkHtml;\n",
              "          element.appendChild(docLink);\n",
              "        }\n",
              "      </script>\n",
              "    </div>\n",
              "  </div>\n",
              "  "
            ]
          },
          "metadata": {},
          "execution_count": 8
        }
      ]
    },
    {
      "cell_type": "markdown",
      "source": [
        "**Drop categorical fields:** <br>\n",
        "Removing the weather_main and weather_description variables as items such as clouds, sunny and overcast may not be measurables, for now. Removing the holiday variable as there are only a handful of holidays listed in the data."
      ],
      "metadata": {
        "id": "_KoefbDXDHXD"
      }
    },
    {
      "cell_type": "code",
      "source": [
        "df = df.drop(['holiday', 'weather_main', 'weather_description'], axis = 1)"
      ],
      "metadata": {
        "id": "91ZrwKSdcDUo"
      },
      "execution_count": null,
      "outputs": []
    },
    {
      "cell_type": "markdown",
      "source": [
        "**Data frame index:** <br>\n",
        "The date_time variable will become the data frame index."
      ],
      "metadata": {
        "id": "tAPrKUSHcXu6"
      }
    },
    {
      "cell_type": "code",
      "source": [
        "df.index = pd.to_datetime(df['date_time'], format='%Y-%m-%d %H:%M:%S')"
      ],
      "metadata": {
        "id": "g9zPCoptcDOA"
      },
      "execution_count": null,
      "outputs": []
    },
    {
      "cell_type": "markdown",
      "source": [
        "**Drop date_time field:** <br>\n",
        "The data_time variable become the index for this data frame."
      ],
      "metadata": {
        "id": "GGib5RQhcg98"
      }
    },
    {
      "cell_type": "code",
      "source": [
        "df = df.drop(['date_time'], axis = 1)"
      ],
      "metadata": {
        "id": "Y5_oBqbvcczg"
      },
      "execution_count": null,
      "outputs": []
    },
    {
      "cell_type": "markdown",
      "source": [
        "**Review Data Frame:** <br>\n",
        "Ensure that the date_time field is the index."
      ],
      "metadata": {
        "id": "67L7iJlSEAUG"
      }
    },
    {
      "cell_type": "code",
      "source": [
        "df[:5]"
      ],
      "metadata": {
        "colab": {
          "base_uri": "https://localhost:8080/",
          "height": 238
        },
        "id": "U9ZCvls-ccqc",
        "outputId": "ef75d708-2abd-4c50-e23a-04ededdaa15c"
      },
      "execution_count": null,
      "outputs": [
        {
          "output_type": "execute_result",
          "data": {
            "text/plain": [
              "                       temp  rain_1h  snow_1h  clouds_all  traffic_volume\n",
              "date_time                                                                \n",
              "2012-10-02 09:00:00  288.28      0.0      0.0          40            5545\n",
              "2012-10-02 10:00:00  289.36      0.0      0.0          75            4516\n",
              "2012-10-02 11:00:00  289.58      0.0      0.0          90            4767\n",
              "2012-10-02 12:00:00  290.13      0.0      0.0          90            5026\n",
              "2012-10-02 13:00:00  291.14      0.0      0.0          75            4918"
            ],
            "text/html": [
              "\n",
              "  <div id=\"df-45a67ffe-b540-4f5e-96bc-c76b1d07343a\">\n",
              "    <div class=\"colab-df-container\">\n",
              "      <div>\n",
              "<style scoped>\n",
              "    .dataframe tbody tr th:only-of-type {\n",
              "        vertical-align: middle;\n",
              "    }\n",
              "\n",
              "    .dataframe tbody tr th {\n",
              "        vertical-align: top;\n",
              "    }\n",
              "\n",
              "    .dataframe thead th {\n",
              "        text-align: right;\n",
              "    }\n",
              "</style>\n",
              "<table border=\"1\" class=\"dataframe\">\n",
              "  <thead>\n",
              "    <tr style=\"text-align: right;\">\n",
              "      <th></th>\n",
              "      <th>temp</th>\n",
              "      <th>rain_1h</th>\n",
              "      <th>snow_1h</th>\n",
              "      <th>clouds_all</th>\n",
              "      <th>traffic_volume</th>\n",
              "    </tr>\n",
              "    <tr>\n",
              "      <th>date_time</th>\n",
              "      <th></th>\n",
              "      <th></th>\n",
              "      <th></th>\n",
              "      <th></th>\n",
              "      <th></th>\n",
              "    </tr>\n",
              "  </thead>\n",
              "  <tbody>\n",
              "    <tr>\n",
              "      <th>2012-10-02 09:00:00</th>\n",
              "      <td>288.28</td>\n",
              "      <td>0.0</td>\n",
              "      <td>0.0</td>\n",
              "      <td>40</td>\n",
              "      <td>5545</td>\n",
              "    </tr>\n",
              "    <tr>\n",
              "      <th>2012-10-02 10:00:00</th>\n",
              "      <td>289.36</td>\n",
              "      <td>0.0</td>\n",
              "      <td>0.0</td>\n",
              "      <td>75</td>\n",
              "      <td>4516</td>\n",
              "    </tr>\n",
              "    <tr>\n",
              "      <th>2012-10-02 11:00:00</th>\n",
              "      <td>289.58</td>\n",
              "      <td>0.0</td>\n",
              "      <td>0.0</td>\n",
              "      <td>90</td>\n",
              "      <td>4767</td>\n",
              "    </tr>\n",
              "    <tr>\n",
              "      <th>2012-10-02 12:00:00</th>\n",
              "      <td>290.13</td>\n",
              "      <td>0.0</td>\n",
              "      <td>0.0</td>\n",
              "      <td>90</td>\n",
              "      <td>5026</td>\n",
              "    </tr>\n",
              "    <tr>\n",
              "      <th>2012-10-02 13:00:00</th>\n",
              "      <td>291.14</td>\n",
              "      <td>0.0</td>\n",
              "      <td>0.0</td>\n",
              "      <td>75</td>\n",
              "      <td>4918</td>\n",
              "    </tr>\n",
              "  </tbody>\n",
              "</table>\n",
              "</div>\n",
              "      <button class=\"colab-df-convert\" onclick=\"convertToInteractive('df-45a67ffe-b540-4f5e-96bc-c76b1d07343a')\"\n",
              "              title=\"Convert this dataframe to an interactive table.\"\n",
              "              style=\"display:none;\">\n",
              "        \n",
              "  <svg xmlns=\"http://www.w3.org/2000/svg\" height=\"24px\"viewBox=\"0 0 24 24\"\n",
              "       width=\"24px\">\n",
              "    <path d=\"M0 0h24v24H0V0z\" fill=\"none\"/>\n",
              "    <path d=\"M18.56 5.44l.94 2.06.94-2.06 2.06-.94-2.06-.94-.94-2.06-.94 2.06-2.06.94zm-11 1L8.5 8.5l.94-2.06 2.06-.94-2.06-.94L8.5 2.5l-.94 2.06-2.06.94zm10 10l.94 2.06.94-2.06 2.06-.94-2.06-.94-.94-2.06-.94 2.06-2.06.94z\"/><path d=\"M17.41 7.96l-1.37-1.37c-.4-.4-.92-.59-1.43-.59-.52 0-1.04.2-1.43.59L10.3 9.45l-7.72 7.72c-.78.78-.78 2.05 0 2.83L4 21.41c.39.39.9.59 1.41.59.51 0 1.02-.2 1.41-.59l7.78-7.78 2.81-2.81c.8-.78.8-2.07 0-2.86zM5.41 20L4 18.59l7.72-7.72 1.47 1.35L5.41 20z\"/>\n",
              "  </svg>\n",
              "      </button>\n",
              "      \n",
              "  <style>\n",
              "    .colab-df-container {\n",
              "      display:flex;\n",
              "      flex-wrap:wrap;\n",
              "      gap: 12px;\n",
              "    }\n",
              "\n",
              "    .colab-df-convert {\n",
              "      background-color: #E8F0FE;\n",
              "      border: none;\n",
              "      border-radius: 50%;\n",
              "      cursor: pointer;\n",
              "      display: none;\n",
              "      fill: #1967D2;\n",
              "      height: 32px;\n",
              "      padding: 0 0 0 0;\n",
              "      width: 32px;\n",
              "    }\n",
              "\n",
              "    .colab-df-convert:hover {\n",
              "      background-color: #E2EBFA;\n",
              "      box-shadow: 0px 1px 2px rgba(60, 64, 67, 0.3), 0px 1px 3px 1px rgba(60, 64, 67, 0.15);\n",
              "      fill: #174EA6;\n",
              "    }\n",
              "\n",
              "    [theme=dark] .colab-df-convert {\n",
              "      background-color: #3B4455;\n",
              "      fill: #D2E3FC;\n",
              "    }\n",
              "\n",
              "    [theme=dark] .colab-df-convert:hover {\n",
              "      background-color: #434B5C;\n",
              "      box-shadow: 0px 1px 3px 1px rgba(0, 0, 0, 0.15);\n",
              "      filter: drop-shadow(0px 1px 2px rgba(0, 0, 0, 0.3));\n",
              "      fill: #FFFFFF;\n",
              "    }\n",
              "  </style>\n",
              "\n",
              "      <script>\n",
              "        const buttonEl =\n",
              "          document.querySelector('#df-45a67ffe-b540-4f5e-96bc-c76b1d07343a button.colab-df-convert');\n",
              "        buttonEl.style.display =\n",
              "          google.colab.kernel.accessAllowed ? 'block' : 'none';\n",
              "\n",
              "        async function convertToInteractive(key) {\n",
              "          const element = document.querySelector('#df-45a67ffe-b540-4f5e-96bc-c76b1d07343a');\n",
              "          const dataTable =\n",
              "            await google.colab.kernel.invokeFunction('convertToInteractive',\n",
              "                                                     [key], {});\n",
              "          if (!dataTable) return;\n",
              "\n",
              "          const docLinkHtml = 'Like what you see? Visit the ' +\n",
              "            '<a target=\"_blank\" href=https://colab.research.google.com/notebooks/data_table.ipynb>data table notebook</a>'\n",
              "            + ' to learn more about interactive tables.';\n",
              "          element.innerHTML = '';\n",
              "          dataTable['output_type'] = 'display_data';\n",
              "          await google.colab.output.renderOutput(dataTable, element);\n",
              "          const docLink = document.createElement('div');\n",
              "          docLink.innerHTML = docLinkHtml;\n",
              "          element.appendChild(docLink);\n",
              "        }\n",
              "      </script>\n",
              "    </div>\n",
              "  </div>\n",
              "  "
            ]
          },
          "metadata": {},
          "execution_count": 12
        }
      ]
    },
    {
      "cell_type": "markdown",
      "source": [
        "## Plots"
      ],
      "metadata": {
        "id": "X6DHru_oczYX"
      }
    },
    {
      "cell_type": "markdown",
      "source": [
        "**Traffic Volume Distribution** <br>\n",
        "This plot should display the distribution of the traffic_volume data, but it doesnt seem to be very helpful."
      ],
      "metadata": {
        "id": "ZaJRjy-cc2G5"
      }
    },
    {
      "cell_type": "code",
      "source": [
        "temp = df['traffic_volume']\n",
        "temp.plot()\n"
      ],
      "metadata": {
        "colab": {
          "base_uri": "https://localhost:8080/",
          "height": 287
        },
        "id": "mLH_xU1rcqLF",
        "outputId": "1f9a90c7-6532-432d-89d4-63315b6c9267"
      },
      "execution_count": null,
      "outputs": [
        {
          "output_type": "execute_result",
          "data": {
            "text/plain": [
              "<matplotlib.axes._subplots.AxesSubplot at 0x7ff61ceccc90>"
            ]
          },
          "metadata": {},
          "execution_count": 13
        },
        {
          "output_type": "display_data",
          "data": {
            "text/plain": [
              "<Figure size 432x288 with 1 Axes>"
            ],
            "image/png": "[encoded data removed]"
          },
          "metadata": {
            "needs_background": "light"
          }
        }
      ]
    },
    {
      "cell_type": "code",
      "source": [
        ""
      ],
      "metadata": {
        "id": "f72IFduzc-Y5"
      },
      "execution_count": null,
      "outputs": []
    },
    {
      "cell_type": "markdown",
      "source": [
        "## Splitting the Data <br>\n",
        "\n",
        "Data set is split into 3 sets.  The training and validation set are a 70/20 split.  The test set is composed of the last 5000 rows from the data frame."
      ],
      "metadata": {
        "id": "V4G5Sxe6dFHQ"
      }
    },
    {
      "cell_type": "code",
      "source": [
        "column_indices = {name: i for i, name in enumerate(df.columns)}\n",
        "\n",
        "n = len(df)\n",
        "\n",
        "train_df = df[0:int(n*0.7)]\n",
        "val_df = df[int(n*0.7):int(n*0.9)]\n",
        "test_df = df[-5000:]\n",
        "\n",
        "num_features = df.shape[1]"
      ],
      "metadata": {
        "id": "g-2ZuHNqc-Rr"
      },
      "execution_count": null,
      "outputs": []
    },
    {
      "cell_type": "code",
      "source": [
        "#train_df"
      ],
      "metadata": {
        "id": "3RZCuHqdc-JI"
      },
      "execution_count": null,
      "outputs": []
    },
    {
      "cell_type": "code",
      "source": [
        "#val_df"
      ],
      "metadata": {
        "id": "Y56qR92qbPU5"
      },
      "execution_count": null,
      "outputs": []
    },
    {
      "cell_type": "code",
      "source": [
        "#test_df"
      ],
      "metadata": {
        "id": "rdN9ycrDkOug"
      },
      "execution_count": null,
      "outputs": []
    },
    {
      "cell_type": "markdown",
      "source": [
        "## Normalize Data \n",
        "\n",
        "The variables of each data set were normalized. "
      ],
      "metadata": {
        "id": "ln0QRW7QkoLT"
      }
    },
    {
      "cell_type": "code",
      "source": [
        "train_mean = train_df.mean()\n",
        "train_std = train_df.std()\n",
        "\n",
        "train_df = (train_df - train_mean) / train_std\n",
        "val_df = (val_df - train_mean) / train_std\n",
        "test_df = (test_df - train_mean) / train_std"
      ],
      "metadata": {
        "id": "IAumeJxUkOsK"
      },
      "execution_count": null,
      "outputs": []
    },
    {
      "cell_type": "code",
      "source": [
        "#train_df"
      ],
      "metadata": {
        "id": "DT5HSWR3kOpc"
      },
      "execution_count": null,
      "outputs": []
    },
    {
      "cell_type": "code",
      "source": [
        "#val_df"
      ],
      "metadata": {
        "id": "K2S1ocrxkOmY"
      },
      "execution_count": null,
      "outputs": []
    },
    {
      "cell_type": "code",
      "source": [
        "#test_df"
      ],
      "metadata": {
        "id": "zEW1o6GekOjK"
      },
      "execution_count": null,
      "outputs": []
    },
    {
      "cell_type": "markdown",
      "source": [
        "## Window Generator\n",
        "To "
      ],
      "metadata": {
        "id": "8z7Ux6iplE69"
      }
    },
    {
      "cell_type": "code",
      "source": [
        "#\n",
        "# From TF Tutorial\n",
        "#\n",
        "\n",
        "class WindowGenerator():\n",
        "  def __init__(self, input_width, label_width, shift,\n",
        "               train_df=train_df, val_df=val_df, test_df=test_df,\n",
        "               label_columns=None):\n",
        "    # Store the raw data.\n",
        "    self.train_df = train_df\n",
        "    self.val_df = val_df\n",
        "    self.test_df = test_df\n",
        "\n",
        "    # Work out the label column indices.\n",
        "    self.label_columns = label_columns\n",
        "    if label_columns is not None:\n",
        "      self.label_columns_indices = {name: i for i, name in\n",
        "                                    enumerate(label_columns)}\n",
        "    self.column_indices = {name: i for i, name in\n",
        "                           enumerate(train_df.columns)}\n",
        "\n",
        "    # Work out the window parameters.\n",
        "    self.input_width = input_width\n",
        "    self.label_width = label_width\n",
        "    self.shift = shift\n",
        "\n",
        "    self.total_window_size = input_width + shift\n",
        "\n",
        "    self.input_slice = slice(0, input_width)\n",
        "    self.input_indices = np.arange(self.total_window_size)[self.input_slice]\n",
        "\n",
        "    self.label_start = self.total_window_size - self.label_width\n",
        "    self.labels_slice = slice(self.label_start, None)\n",
        "    self.label_indices = np.arange(self.total_window_size)[self.labels_slice]\n",
        "\n",
        "  def __repr__(self):\n",
        "    return '\\n'.join([\n",
        "        f'Total window size: {self.total_window_size}',\n",
        "        f'Input indices: {self.input_indices}',\n",
        "        f'Label indices: {self.label_indices}',\n",
        "        f'Label column name(s): {self.label_columns}'])"
      ],
      "metadata": {
        "id": "vtCxbi2Fk5uk"
      },
      "execution_count": null,
      "outputs": []
    },
    {
      "cell_type": "code",
      "source": [
        ""
      ],
      "metadata": {
        "id": "_Kvp1MLwBM0y"
      },
      "execution_count": null,
      "outputs": []
    },
    {
      "cell_type": "code",
      "source": [
        "#\n",
        "# From TF Tutorial\n",
        "#\n",
        "\n",
        "def split_window(self, features):\n",
        "  inputs = features[:, self.input_slice, :]\n",
        "  labels = features[:, self.labels_slice, :]\n",
        "  if self.label_columns is not None:\n",
        "    labels = tf.stack(\n",
        "        [labels[:, :, self.column_indices[name]] for name in self.label_columns],\n",
        "        axis=-1)\n",
        "\n",
        "  # Slicing doesn't preserve static shape information, so set the shapes\n",
        "  # manually. This way the `tf.data.Datasets` are easier to inspect.\n",
        "  inputs.set_shape([None, self.input_width, None])\n",
        "  labels.set_shape([None, self.label_width, None])\n",
        "\n",
        "  return inputs, labels\n",
        "\n",
        "WindowGenerator.split_window = split_window"
      ],
      "metadata": {
        "id": "SrYnJ_hXlKex"
      },
      "execution_count": null,
      "outputs": []
    },
    {
      "cell_type": "code",
      "source": [
        "window_5_1_2 = WindowGenerator(input_width=5, label_width=1, shift=2, label_columns=['traffic_volume'] )"
      ],
      "metadata": {
        "id": "fOayuoWvl3P4"
      },
      "execution_count": null,
      "outputs": []
    },
    {
      "cell_type": "code",
      "source": [
        "window_5_1_2"
      ],
      "metadata": {
        "colab": {
          "base_uri": "https://localhost:8080/"
        },
        "id": "widkjLHBmYDS",
        "outputId": "f61be3f2-2ac5-4dd5-8272-2ce3e60a66ae"
      },
      "execution_count": null,
      "outputs": [
        {
          "output_type": "execute_result",
          "data": {
            "text/plain": [
              "Total window size: 7\n",
              "Input indices: [0 1 2 3 4]\n",
              "Label indices: [6]\n",
              "Label column name(s): ['traffic_volume']"
            ]
          },
          "metadata": {},
          "execution_count": 25
        }
      ]
    },
    {
      "cell_type": "markdown",
      "source": [
        "##Plots"
      ],
      "metadata": {
        "id": "f973AXZ7l8_p"
      }
    },
    {
      "cell_type": "code",
      "source": [
        "#\n",
        "# From TF Tutorial\n",
        "#\n",
        "\n",
        "def plot(self, model=None, plot_col='traffic_volume', max_subplots=3):\n",
        "  inputs, labels = self.example\n",
        "  plt.figure(figsize=(12, 8))\n",
        "  plot_col_index = self.column_indices[plot_col]\n",
        "  max_n = min(max_subplots, len(inputs))\n",
        "  for n in range(max_n):\n",
        "    plt.subplot(max_n, 1, n+1)\n",
        "    plt.ylabel(f'{plot_col} [normed]')\n",
        "    plt.plot(self.input_indices, inputs[n, :, plot_col_index],\n",
        "             label='Inputs', marker='.', zorder=-10)\n",
        "\n",
        "    if self.label_columns:\n",
        "      label_col_index = self.label_columns_indices.get(plot_col, None)\n",
        "    else:\n",
        "      label_col_index = plot_col_index\n",
        "\n",
        "    if label_col_index is None:\n",
        "      continue\n",
        "\n",
        "    plt.scatter(self.label_indices, labels[n, :, label_col_index],\n",
        "                edgecolors='k', label='Labels', c='#2ca02c', s=64)\n",
        "    if model is not None:\n",
        "      predictions = model(inputs)\n",
        "      plt.scatter(self.label_indices, predictions[n, :, label_col_index],\n",
        "                  marker='X', edgecolors='k', label='Predictions',\n",
        "                  c='#ff7f0e', s=64)\n",
        "\n",
        "    if n == 0:\n",
        "      plt.legend()\n",
        "\n",
        "  plt.xlabel('date _ time')\n",
        "\n",
        "WindowGenerator.plot = plot"
      ],
      "metadata": {
        "id": "DiYYD-HWlKUR"
      },
      "execution_count": null,
      "outputs": []
    },
    {
      "cell_type": "code",
      "source": [
        "#\n",
        "# From TF Tutorial\n",
        "#\n",
        "\n",
        "\n",
        "# Stack three slices, the length of the total window.\n",
        "first_window = tf.stack([np.array(train_df[:window_5_1_2.total_window_size]),\n",
        "                           np.array(train_df[100:100+window_5_1_2.total_window_size]),\n",
        "                           np.array(train_df[200:200+window_5_1_2.total_window_size])])\n",
        "\n",
        "first_inputs, first_labels = window_5_1_2.split_window(first_window)"
      ],
      "metadata": {
        "id": "hPZgC09mlKLY"
      },
      "execution_count": null,
      "outputs": []
    },
    {
      "cell_type": "code",
      "source": [
        "window_5_1_2.example = first_inputs, first_labels"
      ],
      "metadata": {
        "id": "ibZqFwpennlx"
      },
      "execution_count": null,
      "outputs": []
    },
    {
      "cell_type": "code",
      "source": [
        "window_5_1_2.plot()"
      ],
      "metadata": {
        "colab": {
          "base_uri": "https://localhost:8080/",
          "height": 498
        },
        "outputId": "f2355f62-3a8e-4051-dfda-2e7ed8de0f30",
        "id": "zQ10NetcmlaE"
      },
      "execution_count": null,
      "outputs": [
        {
          "output_type": "display_data",
          "data": {
            "text/plain": [
              "<Figure size 864x576 with 3 Axes>"
            ],
            "image/png": "[encoded data removed]"
          },
          "metadata": {
            "needs_background": "light"
          }
        }
      ]
    },
    {
      "cell_type": "markdown",
      "source": [
        "##Create the Datasets"
      ],
      "metadata": {
        "id": "Ggwn2oBaowER"
      }
    },
    {
      "cell_type": "code",
      "source": [
        "#\n",
        "# From TF Tutorial\n",
        "#\n",
        "\n",
        "def make_dataset(self, data):\n",
        "  data = np.array(data, dtype=np.float32)\n",
        "  ds = tf.keras.utils.timeseries_dataset_from_array(\n",
        "      data=data,\n",
        "      targets=None,\n",
        "      sequence_length=self.total_window_size,\n",
        "      sequence_stride=1,\n",
        "      shuffle=True,\n",
        "      batch_size=64,)\n",
        "      #batch_size=32,)\n",
        "\n",
        "  ds = ds.map(self.split_window)\n",
        "\n",
        "  return ds\n",
        "\n",
        "WindowGenerator.make_dataset = make_dataset"
      ],
      "metadata": {
        "id": "PCS2PFKWn0ns"
      },
      "execution_count": null,
      "outputs": []
    },
    {
      "cell_type": "code",
      "source": [
        "#\n",
        "# From TF Tutorial\n",
        "#\n",
        "\n",
        "@property\n",
        "def train(self):\n",
        "  return self.make_dataset(self.train_df)\n",
        "\n",
        "@property\n",
        "def val(self):\n",
        "  return self.make_dataset(self.val_df)\n",
        "\n",
        "@property\n",
        "def test(self):\n",
        "  return self.make_dataset(self.test_df)\n",
        "\n",
        "@property\n",
        "def example(self):\n",
        "  \"\"\"Get and cache an example batch of `inputs, labels` for plotting.\"\"\"\n",
        "  result = getattr(self, '_example', None)\n",
        "  if result is None:\n",
        "    # No example batch was found, so get one from the `.train` dataset\n",
        "    result = next(iter(self.train))\n",
        "    # And cache it for next time\n",
        "    self._example = result\n",
        "  return result\n",
        "\n",
        "WindowGenerator.train = train\n",
        "WindowGenerator.val = val\n",
        "WindowGenerator.test = test\n",
        "WindowGenerator.example = example"
      ],
      "metadata": {
        "id": "xu39DADko08X"
      },
      "execution_count": null,
      "outputs": []
    },
    {
      "cell_type": "code",
      "source": [
        "# window_5_1_2.train\n",
        "# window_5_1_2.val\n",
        "#window_5_1_2.test\n"
      ],
      "metadata": {
        "id": "8D880xKWo03X"
      },
      "execution_count": null,
      "outputs": []
    },
    {
      "cell_type": "markdown",
      "source": [
        "##Data Models"
      ],
      "metadata": {
        "id": "22gbvlsZ_LZA"
      }
    },
    {
      "cell_type": "markdown",
      "source": [
        "**Baseline Model** <br>\n",
        "Simple baseline model based on the TF tutorial."
      ],
      "metadata": {
        "id": "agILu538tumD"
      }
    },
    {
      "cell_type": "code",
      "source": [
        "single_step = WindowGenerator(\n",
        "    input_width=1, label_width=1, shift=1,\n",
        "    label_columns=['traffic_volume'])\n",
        "single_step"
      ],
      "metadata": {
        "colab": {
          "base_uri": "https://localhost:8080/"
        },
        "id": "DaNLS_JsuI80",
        "outputId": "d999ad81-ba24-4445-a094-a0d18362b132"
      },
      "execution_count": null,
      "outputs": [
        {
          "output_type": "execute_result",
          "data": {
            "text/plain": [
              "Total window size: 2\n",
              "Input indices: [0]\n",
              "Label indices: [1]\n",
              "Label column name(s): ['traffic_volume']"
            ]
          },
          "metadata": {},
          "execution_count": 35
        }
      ]
    },
    {
      "cell_type": "code",
      "source": [
        "class Baseline(tf.keras.Model):\n",
        "  def __init__(self, label_index=None):\n",
        "    super().__init__()\n",
        "    self.label_index = label_index\n",
        "\n",
        "  def call(self, inputs):\n",
        "    if self.label_index is None:\n",
        "      return inputs\n",
        "    result = inputs[:, :, self.label_index]\n",
        "    return result[:, :, tf.newaxis]"
      ],
      "metadata": {
        "id": "UHiEJoSCtsCp"
      },
      "execution_count": null,
      "outputs": []
    },
    {
      "cell_type": "code",
      "source": [
        "baseline = Baseline(label_index=column_indices['traffic_volume'])\n",
        "\n",
        "baseline.compile(loss=tf.losses.MeanSquaredError(),\n",
        "                 metrics=[tf.metrics.MeanAbsoluteError()])\n",
        "\n",
        "val_performance = {}\n",
        "performance = {}\n",
        "val_performance['Baseline'] = baseline.evaluate(single_step.val)\n",
        "performance['Baseline'] = baseline.evaluate(single_step.test, verbose=0)"
      ],
      "metadata": {
        "colab": {
          "base_uri": "https://localhost:8080/"
        },
        "id": "g_r-mL3gtr_n",
        "outputId": "bf8d6f02-e48a-49a1-aec2-1772897c7a6c"
      },
      "execution_count": null,
      "outputs": [
        {
          "output_type": "stream",
          "name": "stdout",
          "text": [
            "127/127 [==============================] - 3s 9ms/step - loss: 0.1713 - mean_absolute_error: 0.2973\n"
          ]
        }
      ]
    },
    {
      "cell_type": "code",
      "source": [
        "wide_window_5_1_2 = WindowGenerator(\n",
        "    input_width=24, label_width=24, shift=2,\n",
        "    label_columns=['traffic_volume'])\n",
        "\n",
        "wide_window_5_1_2"
      ],
      "metadata": {
        "colab": {
          "base_uri": "https://localhost:8080/"
        },
        "id": "-1J4xZzVwxDl",
        "outputId": "5080308a-b2e0-4aec-9dc1-2ff9f27f9bd6"
      },
      "execution_count": null,
      "outputs": [
        {
          "output_type": "execute_result",
          "data": {
            "text/plain": [
              "Total window size: 26\n",
              "Input indices: [ 0  1  2  3  4  5  6  7  8  9 10 11 12 13 14 15 16 17 18 19 20 21 22 23]\n",
              "Label indices: [ 2  3  4  5  6  7  8  9 10 11 12 13 14 15 16 17 18 19 20 21 22 23 24 25]\n",
              "Label column name(s): ['traffic_volume']"
            ]
          },
          "metadata": {},
          "execution_count": 38
        }
      ]
    },
    {
      "cell_type": "code",
      "source": [
        "wide_window_5_1_2.plot(baseline)"
      ],
      "metadata": {
        "colab": {
          "base_uri": "https://localhost:8080/",
          "height": 498
        },
        "id": "cgV2ZkuGtr9F",
        "outputId": "4ade0fad-bea5-4438-d547-6457ebdee9b2"
      },
      "execution_count": null,
      "outputs": [
        {
          "output_type": "display_data",
          "data": {
            "text/plain": [
              "<Figure size 864x576 with 3 Axes>"
            ],
            "image/png": "[encoded data removed]"
          },
          "metadata": {
            "needs_background": "light"
          }
        }
      ]
    },
    {
      "cell_type": "code",
      "source": [
        "#\n",
        "# From TF Tutorial\n",
        "#\n",
        "\n",
        "MAX_EPOCHS = 30\n",
        "\n",
        "def compile_and_fit(model, window, patience=2):\n",
        "  early_stopping = tf.keras.callbacks.EarlyStopping(monitor='val_loss',\n",
        "                                                    patience=patience,\n",
        "                                                    mode='min')\n",
        "\n",
        "  model.compile(loss=tf.losses.MeanSquaredError(),\n",
        "                optimizer=tf.optimizers.Adam(learning_rate=0.001),\n",
        "                metrics=[tf.metrics.MeanAbsoluteError()])\n",
        "\n",
        "  history = model.fit(window.train, epochs=MAX_EPOCHS,\n",
        "                      validation_data=window.val,\n",
        "                      callbacks=[early_stopping])\n",
        "  return history\n"
      ],
      "metadata": {
        "id": "kt5WhP6tpPiA"
      },
      "execution_count": null,
      "outputs": []
    },
    {
      "cell_type": "markdown",
      "source": [
        "**LSTM Model -- Runner-Up**"
      ],
      "metadata": {
        "id": "AQUfPTU0-01e"
      }
    },
    {
      "cell_type": "code",
      "source": [
        "lstm_model = tf.keras.models.Sequential([\n",
        "    # Shape [batch, time, features] => [batch, time, lstm_units]\n",
        "    tf.keras.layers.LSTM(128, return_sequences=True),\n",
        "    #tf.keras.layers.LSTM(240, return_sequences=True),\n",
        "    #tf.keras.layers.LSTM(240, return_sequences=True),\n",
        "    #tf.keras.layers.BatchNormalization(),\n",
        "    tf.keras.layers.Dropout(0.2),\n",
        "    tf.keras.layers.LSTM(128, return_sequences=True),\n",
        "    #tf.keras.layers.LSTM(512, return_sequences=True),\n",
        "    #tf.keras.layers.BatchNormalization(),\n",
        "    tf.keras.layers.Dropout(0.2),\n",
        "    tf.keras.layers.Dense(64, activation='relu'),\n",
        "    tf.keras.layers.Dense(32, activation='relu'),\n",
        "    # Shape => [batch, time, features]\n",
        "    tf.keras.layers.Dense(units=1)\n",
        "])"
      ],
      "metadata": {
        "id": "FnVT_l2RpPew"
      },
      "execution_count": null,
      "outputs": []
    },
    {
      "cell_type": "code",
      "source": [
        "history = compile_and_fit(lstm_model, wide_window_5_1_2)\n",
        "\n",
        "IPython.display.clear_output()\n",
        "val_performance['LSTM'] = lstm_model.evaluate(wide_window_5_1_2.val)\n",
        "performance['LSTM'] = lstm_model.evaluate(wide_window_5_1_2.test, verbose=0)"
      ],
      "metadata": {
        "colab": {
          "base_uri": "https://localhost:8080/"
        },
        "id": "kpEWyOFdpPaW",
        "outputId": "f8fd08db-525d-4e8b-b6d3-967290261831"
      },
      "execution_count": null,
      "outputs": [
        {
          "output_type": "stream",
          "name": "stdout",
          "text": [
            "127/127 [==============================] - 1s 9ms/step - loss: 0.0629 - mean_absolute_error: 0.1541\n"
          ]
        }
      ]
    },
    {
      "cell_type": "code",
      "source": [
        "wide_window_5_1_2.plot(lstm_model)"
      ],
      "metadata": {
        "colab": {
          "base_uri": "https://localhost:8080/",
          "height": 498
        },
        "id": "4SVxXIQxrR5k",
        "outputId": "f5064820-41be-4e9f-fd5b-77ade8e2e78b"
      },
      "execution_count": null,
      "outputs": [
        {
          "output_type": "display_data",
          "data": {
            "text/plain": [
              "<Figure size 864x576 with 3 Axes>"
            ],
            "image/png": "[encoded data removed]"
          },
          "metadata": {
            "needs_background": "light"
          }
        }
      ]
    },
    {
      "cell_type": "code",
      "source": [
        "plt.plot(history.history['loss'], label='training loss') \n",
        "plt.plot(history.history['val_loss'], label = 'valid loss')\n",
        "plt.xlabel('Epoch')\n",
        "plt.ylabel('Loss (MAE)')\n",
        "plt.legend(loc='upper right')\n",
        "plt.title('LSTM Training and Validation Loss Curves')\n",
        "plt.show()"
      ],
      "metadata": {
        "colab": {
          "base_uri": "https://localhost:8080/",
          "height": 295
        },
        "id": "TlxiBZqNbyI7",
        "outputId": "bf24caca-ebae-476b-ef3f-bf06f9cd1adc"
      },
      "execution_count": null,
      "outputs": [
        {
          "output_type": "display_data",
          "data": {
            "text/plain": [
              "<Figure size 432x288 with 1 Axes>"
            ],
            "image/png": "[encoded data removed]"
          },
          "metadata": {
            "needs_background": "light"
          }
        }
      ]
    },
    {
      "cell_type": "markdown",
      "source": [
        "**CNN/RNN Model -- Best Model**\n",
        "\n"
      ],
      "metadata": {
        "id": "7yi01qJs-6bz"
      }
    },
    {
      "cell_type": "code",
      "source": [
        "cnn_rnn_model = tf.keras.models.Sequential([\n",
        "    tf.keras.layers.Conv1D(256, kernel_size=3, strides=1, padding='same',activation='relu'),\n",
        "    tf.keras.layers.Conv1D(128,  kernel_size=3, padding='same',activation='relu'),\n",
        "    #tf.keras.layers.Conv1D(64,  kernel_size=3, padding='same',activation='relu'),\n",
        "    #tf.keras.layers.BatchNormalization(),\n",
        "    tf.keras.layers.Dropout(0.2),\n",
        "    tf.keras.layers.LSTM(256, return_sequences=True),\n",
        "    tf.keras.layers.LSTM(128, return_sequences=True),\n",
        "    #tf.keras.layers.LSTM(64, return_sequences=True),\n",
        "    #tf.keras.layers.Dropout(0.1),\n",
        "    tf.keras.layers.Dense(128, activation='relu'),\n",
        "    #tf.keras.layers.Dense(128, activation='relu'),\n",
        "    tf.keras.layers.Dense(units=1)\n",
        "\n",
        "])"
      ],
      "metadata": {
        "id": "H1jUQU3Ar7jC"
      },
      "execution_count": null,
      "outputs": []
    },
    {
      "cell_type": "code",
      "source": [
        "history = compile_and_fit(cnn_rnn_model, wide_window_5_1_2)\n",
        "\n",
        "IPython.display.clear_output()\n",
        "val_performance['CNN_RNN'] = cnn_rnn_model.evaluate(wide_window_5_1_2.val)\n",
        "performance['CNN_RNN'] = cnn_rnn_model.evaluate(wide_window_5_1_2.test, verbose=0)"
      ],
      "metadata": {
        "colab": {
          "base_uri": "https://localhost:8080/"
        },
        "id": "r3-xhAezsvy5",
        "outputId": "1c20edbd-e9dc-4b96-fa20-104412baadf2"
      },
      "execution_count": null,
      "outputs": [
        {
          "output_type": "stream",
          "name": "stdout",
          "text": [
            "127/127 [==============================] - 1s 9ms/step - loss: 0.0038 - mean_absolute_error: 0.0319\n"
          ]
        }
      ]
    },
    {
      "cell_type": "markdown",
      "source": [
        "Visual plot for cnn_rnn_model"
      ],
      "metadata": {
        "id": "ZQFha_T4Al8J"
      }
    },
    {
      "cell_type": "code",
      "source": [
        "wide_window_5_1_2.plot(cnn_rnn_model)"
      ],
      "metadata": {
        "colab": {
          "base_uri": "https://localhost:8080/",
          "height": 498
        },
        "id": "ex5ufdAX9MKi",
        "outputId": "9881ea2f-cd72-460f-e9b2-1e40bc5b4953"
      },
      "execution_count": null,
      "outputs": [
        {
          "output_type": "display_data",
          "data": {
            "text/plain": [
              "<Figure size 864x576 with 3 Axes>"
            ],
            "image/png": "[encoded data removed]"
          },
          "metadata": {
            "needs_background": "light"
          }
        }
      ]
    },
    {
      "cell_type": "markdown",
      "source": [
        "CNN_RNN model loss curve"
      ],
      "metadata": {
        "id": "fUFYgHvW-JaI"
      }
    },
    {
      "cell_type": "code",
      "source": [
        "plt.plot(history.history['loss'], label='training loss') \n",
        "plt.plot(history.history['val_loss'], label = 'valid loss')\n",
        "plt.xlabel('Epoch')\n",
        "plt.ylabel('Loss (MAE)')\n",
        "plt.legend(loc='upper right')\n",
        "plt.title('CNN/RNN Training and Validation Loss Curves')\n",
        "plt.show()"
      ],
      "metadata": {
        "colab": {
          "base_uri": "https://localhost:8080/",
          "height": 295
        },
        "id": "fwzY1op082c7",
        "outputId": "c214fa9e-1848-4a13-d61b-b2b0a1e117f0"
      },
      "execution_count": null,
      "outputs": [
        {
          "output_type": "display_data",
          "data": {
            "text/plain": [
              "<Figure size 432x288 with 1 Axes>"
            ],
            "image/png": "[encoded data removed]"
          },
          "metadata": {
            "needs_background": "light"
          }
        }
      ]
    },
    {
      "cell_type": "code",
      "source": [
        "# x = np.arange(len(val_performance))\n",
        "\n",
        "# x"
      ],
      "metadata": {
        "id": "IFzjv7x8x2wE"
      },
      "execution_count": null,
      "outputs": []
    },
    {
      "cell_type": "markdown",
      "source": [
        "##Predictions"
      ],
      "metadata": {
        "id": "5Pcgu6tt_ZLd"
      }
    },
    {
      "cell_type": "markdown",
      "source": [
        "**Create predictions based on test set**"
      ],
      "metadata": {
        "id": "KQ7shLEyAJ-O"
      }
    },
    {
      "cell_type": "code",
      "source": [
        "#prediction = lstm_model.predict(window_5_1_2.test)\n",
        "\n",
        "prediction = cnn_rnn_model.predict(window_5_1_2.test)"
      ],
      "metadata": {
        "id": "HP3vD_anx2l8"
      },
      "execution_count": null,
      "outputs": []
    },
    {
      "cell_type": "code",
      "source": [
        "len(prediction)"
      ],
      "metadata": {
        "colab": {
          "base_uri": "https://localhost:8080/"
        },
        "id": "L1hiwZjJrRw-",
        "outputId": "ac38fae9-4991-4b1b-bac9-e34fc34dfb4e"
      },
      "execution_count": null,
      "outputs": [
        {
          "output_type": "execute_result",
          "data": {
            "text/plain": [
              "4994"
            ]
          },
          "metadata": {},
          "execution_count": 51
        }
      ]
    },
    {
      "cell_type": "code",
      "source": [
        "prediction.shape, print(type(prediction)), prediction.dtype\n",
        "\n",
        "#col = pd.DataFrame([prediction], columns=['runs'] )"
      ],
      "metadata": {
        "colab": {
          "base_uri": "https://localhost:8080/"
        },
        "id": "GCk7VMy15Sa1",
        "outputId": "fc1377b9-4b4d-41d3-fc18-ec6d14249d1b"
      },
      "execution_count": null,
      "outputs": [
        {
          "output_type": "stream",
          "name": "stdout",
          "text": [
            "<class 'numpy.ndarray'>\n"
          ]
        },
        {
          "output_type": "execute_result",
          "data": {
            "text/plain": [
              "((4994, 5, 1), None, dtype('float32'))"
            ]
          },
          "metadata": {},
          "execution_count": 52
        }
      ]
    },
    {
      "cell_type": "markdown",
      "source": [
        "**Put predictions in single array**"
      ],
      "metadata": {
        "id": "5ROApn4r__F6"
      }
    },
    {
      "cell_type": "code",
      "source": [
        "#prediction[2][4]\n",
        "\n",
        "i = 0\n",
        "preds = []\n",
        "for row in range(0, len(prediction)):\n",
        "  preds.append(prediction[row][4])\n",
        "\n",
        "preds\n",
        "\n",
        "len(preds)\n"
      ],
      "metadata": {
        "colab": {
          "base_uri": "https://localhost:8080/"
        },
        "id": "Pm5nM_QNAmLj",
        "outputId": "083fd75d-4607-4242-809d-8e8f3f7411cc"
      },
      "execution_count": null,
      "outputs": [
        {
          "output_type": "execute_result",
          "data": {
            "text/plain": [
              "4994"
            ]
          },
          "metadata": {},
          "execution_count": 53
        }
      ]
    },
    {
      "cell_type": "markdown",
      "source": [
        "**Denormalize the predictions**"
      ],
      "metadata": {
        "id": "wh1KdQ4A_5DG"
      }
    },
    {
      "cell_type": "code",
      "source": [
        "#denorms = prediction *  train_std + train_mean\n",
        "\n",
        "train_df_orig = df[0:int(n*0.7)]\n",
        "\n",
        "new_preds = []\n",
        "for z in range(0, len(preds)):\n",
        "  ans = preds[z] * train_df_orig.std() + train_df_orig.mean()\n",
        "  ans = ans.to_numpy()\n",
        "  new_preds.append(ans[4])\n",
        "\n",
        "len(new_preds)\n",
        "\n",
        "#new_preds"
      ],
      "metadata": {
        "colab": {
          "base_uri": "https://localhost:8080/"
        },
        "id": "zm2YSx9NHtrd",
        "outputId": "3c130eef-410d-4f00-e13c-a274101aab5a"
      },
      "execution_count": null,
      "outputs": [
        {
          "output_type": "execute_result",
          "data": {
            "text/plain": [
              "4994"
            ]
          },
          "metadata": {},
          "execution_count": 54
        }
      ]
    },
    {
      "cell_type": "code",
      "source": [
        "column_indices = {name: i for i, name in enumerate(df.columns)}\n",
        "\n",
        "n = len(df)\n",
        "\n",
        "train_df = df[0:int(n*0.7)]\n",
        "val_df = df[int(n*0.7):int(n*0.9)]\n",
        "test_df = df[-5000:]\n",
        "\n",
        "num_features = df.shape[1]"
      ],
      "metadata": {
        "id": "KQigpUQBmRT-"
      },
      "execution_count": null,
      "outputs": []
    },
    {
      "cell_type": "markdown",
      "source": [
        "##CSV File"
      ],
      "metadata": {
        "id": "VZS6bo8I_kLm"
      }
    },
    {
      "cell_type": "markdown",
      "source": [
        "**Create and populate .csv file with predictions**"
      ],
      "metadata": {
        "id": "a_BPDdRO_svB"
      }
    },
    {
      "cell_type": "code",
      "source": [
        "predict_DF = pd.DataFrame(new_preds)\n",
        "predict_DF = predict_DF.reset_index()\n",
        "predict_DF.columns = ('id','prediction')\n",
        "predict_DF['id'] = predict_DF['id'] + 1\n",
        "predict_DF.to_csv('predictions.csv', index=False)"
      ],
      "metadata": {
        "id": "N1LToGdM4ojP"
      },
      "execution_count": null,
      "outputs": []
    },
    {
      "cell_type": "markdown",
      "source": [
        "**Download .csv file from Google Colab**"
      ],
      "metadata": {
        "id": "SFwB087A_kvR"
      }
    },
    {
      "cell_type": "code",
      "source": [
        "from google.colab import files\n",
        "files.download('predictions.csv')"
      ],
      "metadata": {
        "colab": {
          "base_uri": "https://localhost:8080/",
          "height": 17
        },
        "id": "ak4TEZcELzpq",
        "outputId": "663c1c90-0b0f-4e75-bfab-c780aee3d0e1"
      },
      "execution_count": null,
      "outputs": [
        {
          "output_type": "display_data",
          "data": {
            "text/plain": [
              "<IPython.core.display.Javascript object>"
            ],
            "application/javascript": [
              "\n",
              "    async function download(id, filename, size) {\n",
              "      if (!google.colab.kernel.accessAllowed) {\n",
              "        return;\n",
              "      }\n",
              "      const div = document.createElement('div');\n",
              "      const label = document.createElement('label');\n",
              "      label.textContent = `Downloading \"${filename}\": `;\n",
              "      div.appendChild(label);\n",
              "      const progress = document.createElement('progress');\n",
              "      progress.max = size;\n",
              "      div.appendChild(progress);\n",
              "      document.body.appendChild(div);\n",
              "\n",
              "      const buffers = [];\n",
              "      let downloaded = 0;\n",
              "\n",
              "      const channel = await google.colab.kernel.comms.open(id);\n",
              "      // Send a message to notify the kernel that we're ready.\n",
              "      channel.send({})\n",
              "\n",
              "      for await (const message of channel.messages) {\n",
              "        // Send a message to notify the kernel that we're ready.\n",
              "        channel.send({})\n",
              "        if (message.buffers) {\n",
              "          for (const buffer of message.buffers) {\n",
              "            buffers.push(buffer);\n",
              "            downloaded += buffer.byteLength;\n",
              "            progress.value = downloaded;\n",
              "          }\n",
              "        }\n",
              "      }\n",
              "      const blob = new Blob(buffers, {type: 'application/binary'});\n",
              "      const a = document.createElement('a');\n",
              "      a.href = window.URL.createObjectURL(blob);\n",
              "      a.download = filename;\n",
              "      div.appendChild(a);\n",
              "      a.click();\n",
              "      div.remove();\n",
              "    }\n",
              "  "
            ]
          },
          "metadata": {}
        },
        {
          "output_type": "display_data",
          "data": {
            "text/plain": [
              "<IPython.core.display.Javascript object>"
            ],
            "application/javascript": [
              "download(\"download_6d5d43ed-2cbf-468e-9a31-7737a4845ed9\", \"predictions.csv\", 116278)"
            ]
          },
          "metadata": {}
        }
      ]
    },
    {
      "cell_type": "markdown",
      "source": [
        ""
      ],
      "metadata": {
        "id": "tzjCZwD3_wc5"
      }
    }
  ]
}